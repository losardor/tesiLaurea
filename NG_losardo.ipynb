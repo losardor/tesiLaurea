{
 "cells": [
  {
   "cell_type": "markdown",
   "metadata": {},
   "source": [
    "# Un primo esperimento con il codice#"
   ]
  },
  {
   "cell_type": "markdown",
   "metadata": {},
   "source": [
    "il codice genera la topologia secondo la corrispondenza\n",
    "1. COMPLETE genera un grafo interamente connesso\n",
    "2. ERDOS genera un grafo Erdős–Rényi. PEr cambiare la probbabilità modificare il valore in Agents.py di :ERDOS_p = 0.5\n",
    "3. GRID2D genera un grafo reticolare regolare bidimensionale di lato radice di N\n",
    "4. GRID2DBAND genera un grafo reticolare regolare bidimensionale in cui nel centro i nodi sono pesato 0.01 mentre altrove pesano 1\n",
    "5. BARABASI genera un grafo di tipo Barabasi Albert. Per modificare il numero di link dei nodi di accrescimento cambiare il valore di BARABASI_M in Agents.py\n",
    "6.GRIDONMAP genera un reticolo quadrato in cui ad ogni nodo è associata una posizione e un altitudine e ogni link ha un peso dipendente dalla differenza di altitudine."
   ]
  },
  {
   "cell_type": "code",
   "execution_count": 1,
   "metadata": {
    "collapsed": false
   },
   "outputs": [],
   "source": [
    "import random\n",
    "from Agent import *\n",
    "from Game import Play\n",
    "%matplotlib inline"
   ]
  },
  {
   "cell_type": "code",
   "execution_count": 2,
   "metadata": {
    "collapsed": false
   },
   "outputs": [
    {
     "name": "stdout",
     "output_type": "stream",
     "text": [
      "# GAME:\n",
      "the top left corner has position: 310630.5\t5227502.5\n",
      "the bottom right corner has position: 1320280.5\t3924002.5\n",
      "the  y-range of our map in boxes: 17380.0\n",
      "the  x-range of our map in boxes: 13462.0\n",
      "Coarsness is : 3\n",
      "The actual number of agents in this simulation will be 75\n",
      "0     3.640010e-229\n",
      "1      0.000000e+00\n",
      "2      0.000000e+00\n",
      "3      5.380186e-32\n",
      "4     1.752589e-101\n",
      "5      1.420138e-97\n",
      "6     6.402020e-254\n",
      "7      0.000000e+00\n",
      "8     3.961430e-107\n",
      "9     8.725629e-103\n",
      "10     0.000000e+00\n",
      "11     1.333615e-34\n",
      "12     1.580420e-61\n",
      "13    6.519766e-145\n",
      "14     7.582560e-10\n",
      "15     0.000000e+00\n",
      "16     0.000000e+00\n",
      "17     0.000000e+00\n",
      "18     0.000000e+00\n",
      "19     9.221146e-47\n",
      "20    1.221087e-232\n",
      "21     1.154822e-17\n",
      "22    2.147639e-257\n",
      "23    3.152008e-212\n",
      "24    3.016098e-311\n",
      "25     1.383897e-87\n",
      "26     0.000000e+00\n",
      "27     0.000000e+00\n",
      "28     1.825105e-78\n",
      "29     2.170522e-29\n",
      "30    9.291736e-166\n",
      "31    1.752589e-101\n",
      "32    2.591900e-175\n",
      "33    1.523851e-279\n",
      "34    9.784772e-186\n",
      "35     1.049348e-96\n",
      "36     0.000000e+00\n",
      "37    8.017655e-225\n",
      "38     0.000000e+00\n",
      "39     0.000000e+00\n",
      "40     8.285962e-83\n",
      "41     0.000000e+00\n",
      "42    5.945257e-148\n",
      "43    2.329036e-211\n",
      "44     0.000000e+00\n",
      "dtype: float64\n"
     ]
    },
    {
     "data": {
      "image/png": "[encoded data removed]",
      "text/plain": [
       "<matplotlib.figure.Figure at 0x7f96fc4b8490>"
      ]
     },
     "metadata": {},
     "output_type": "display_data"
    }
   ],
   "source": [
    "print \"# GAME:\"\n",
    "folk = Folk(100,GRIDONMAP)"
   ]
  },
  {
   "cell_type": "code",
   "execution_count": 3,
   "metadata": {
    "collapsed": false
   },
   "outputs": [
    {
     "ename": "TypeError",
     "evalue": "'NoneType' object has no attribute '__getitem__'",
     "output_type": "error",
     "traceback": [
      "\u001b[1;31m---------------------------------------------------------------------------\u001b[0m",
      "\u001b[1;31mTypeError\u001b[0m                                 Traceback (most recent call last)",
      "\u001b[1;32m<ipython-input-3-348ba6b07801>\u001b[0m in \u001b[0;36m<module>\u001b[1;34m()\u001b[0m\n\u001b[1;32m----> 1\u001b[1;33m \u001b[0mPlay\u001b[0m\u001b[1;33m(\u001b[0m\u001b[0mfolk\u001b[0m\u001b[1;33m,\u001b[0m\u001b[1;36m5000000\u001b[0m\u001b[1;33m)\u001b[0m\u001b[1;33m\u001b[0m\u001b[0m\n\u001b[0m\u001b[0;32m      2\u001b[0m \u001b[1;31m#print folk\u001b[0m\u001b[1;33m\u001b[0m\u001b[1;33m\u001b[0m\u001b[0m\n",
      "\u001b[1;32m/home/donrog/tesiLaurea/Game.pyc\u001b[0m in \u001b[0;36mPlay\u001b[1;34m(f, T)\u001b[0m\n\u001b[0;32m     10\u001b[0m     \u001b[1;32mfor\u001b[0m \u001b[0mi\u001b[0m \u001b[1;32min\u001b[0m \u001b[0mrange\u001b[0m\u001b[1;33m(\u001b[0m\u001b[0mT\u001b[0m\u001b[1;33m)\u001b[0m\u001b[1;33m:\u001b[0m\u001b[1;33m\u001b[0m\u001b[0m\n\u001b[0;32m     11\u001b[0m \u001b[1;33m\u001b[0m\u001b[0m\n\u001b[1;32m---> 12\u001b[1;33m         \u001b[1;33m[\u001b[0m\u001b[0mspeaker\u001b[0m\u001b[1;33m,\u001b[0m \u001b[0mhearer\u001b[0m\u001b[1;33m]\u001b[0m \u001b[1;33m=\u001b[0m \u001b[0mf\u001b[0m\u001b[1;33m.\u001b[0m\u001b[0mSelect\u001b[0m\u001b[1;33m(\u001b[0m\u001b[1;33m)\u001b[0m\u001b[1;33m\u001b[0m\u001b[0m\n\u001b[0m\u001b[0;32m     13\u001b[0m         \u001b[1;32mif\u001b[0m\u001b[1;33m(\u001b[0m\u001b[0mhearer\u001b[0m\u001b[1;33m==\u001b[0m\u001b[0mNone\u001b[0m\u001b[1;33m)\u001b[0m\u001b[1;33m:\u001b[0m\u001b[1;33m\u001b[0m\u001b[0m\n\u001b[0;32m     14\u001b[0m             \u001b[1;32mcontinue\u001b[0m\u001b[1;33m\u001b[0m\u001b[0m\n",
      "\u001b[1;32m/home/donrog/tesiLaurea/Agent.py\u001b[0m in \u001b[0;36mSelect\u001b[1;34m(self)\u001b[0m\n\u001b[0;32m     82\u001b[0m \u001b[1;33m\u001b[0m\u001b[0m\n\u001b[0;32m     83\u001b[0m    \u001b[1;32mdef\u001b[0m \u001b[0mSelect\u001b[0m\u001b[1;33m(\u001b[0m\u001b[0mself\u001b[0m\u001b[1;33m)\u001b[0m\u001b[1;33m:\u001b[0m\u001b[1;33m\u001b[0m\u001b[0m\n\u001b[1;32m---> 84\u001b[1;33m       \u001b[1;32mreturn\u001b[0m \u001b[0mself\u001b[0m\u001b[1;33m.\u001b[0m\u001b[0mtopology\u001b[0m\u001b[1;33m.\u001b[0m\u001b[0mSelect\u001b[0m\u001b[1;33m(\u001b[0m\u001b[0mself\u001b[0m\u001b[1;33m.\u001b[0m\u001b[0magent\u001b[0m\u001b[1;33m)\u001b[0m\u001b[1;33m\u001b[0m\u001b[0m\n\u001b[0m\u001b[0;32m     85\u001b[0m       \u001b[1;31m#return random.sample(self.agent, 2)\u001b[0m\u001b[1;33m\u001b[0m\u001b[1;33m\u001b[0m\u001b[0m\n\u001b[0;32m     86\u001b[0m \u001b[1;33m\u001b[0m\u001b[0m\n",
      "\u001b[1;32m/home/donrog/tesiLaurea/Agent.py\u001b[0m in \u001b[0;36mSelect\u001b[1;34m(self, agent)\u001b[0m\n\u001b[0;32m    169\u001b[0m          \u001b[0mmapping\u001b[0m\u001b[1;33m=\u001b[0m\u001b[1;33m{\u001b[0m\u001b[0mkey\u001b[0m\u001b[1;33m[\u001b[0m\u001b[1;33m:\u001b[0m\u001b[1;36m2\u001b[0m\u001b[1;33m]\u001b[0m\u001b[1;33m:\u001b[0m \u001b[0mkey\u001b[0m\u001b[1;33m[\u001b[0m\u001b[1;36m2\u001b[0m\u001b[1;33m]\u001b[0m \u001b[1;32mfor\u001b[0m \u001b[0mkey\u001b[0m \u001b[1;32min\u001b[0m \u001b[0mself\u001b[0m\u001b[1;33m.\u001b[0m\u001b[0mG\u001b[0m\u001b[1;33m.\u001b[0m\u001b[0medges\u001b[0m\u001b[1;33m(\u001b[0m\u001b[0ms\u001b[0m\u001b[1;33m,\u001b[0m \u001b[0mdata\u001b[0m\u001b[1;33m=\u001b[0m\u001b[1;34m'weight'\u001b[0m\u001b[1;33m)\u001b[0m\u001b[1;33m}\u001b[0m\u001b[1;33m\u001b[0m\u001b[0m\n\u001b[0;32m    170\u001b[0m          \u001b[0mlink\u001b[0m\u001b[1;33m=\u001b[0m\u001b[0mnx\u001b[0m\u001b[1;33m.\u001b[0m\u001b[0mutils\u001b[0m\u001b[1;33m.\u001b[0m\u001b[0mrandom_sequence\u001b[0m\u001b[1;33m.\u001b[0m\u001b[0mweighted_choice\u001b[0m\u001b[1;33m(\u001b[0m\u001b[0mmapping\u001b[0m\u001b[1;33m)\u001b[0m\u001b[1;33m\u001b[0m\u001b[0m\n\u001b[1;32m--> 171\u001b[1;33m          \u001b[1;32mif\u001b[0m \u001b[0mlink\u001b[0m\u001b[1;33m[\u001b[0m\u001b[1;36m0\u001b[0m\u001b[1;33m]\u001b[0m\u001b[1;33m==\u001b[0m\u001b[0ms\u001b[0m\u001b[1;33m:\u001b[0m\u001b[1;33m\u001b[0m\u001b[0m\n\u001b[0m\u001b[0;32m    172\u001b[0m             \u001b[0mh\u001b[0m \u001b[1;33m=\u001b[0m \u001b[0mlink\u001b[0m\u001b[1;33m[\u001b[0m\u001b[1;36m1\u001b[0m\u001b[1;33m]\u001b[0m\u001b[1;33m\u001b[0m\u001b[0m\n\u001b[0;32m    173\u001b[0m          \u001b[1;32melse\u001b[0m\u001b[1;33m:\u001b[0m\u001b[1;33m\u001b[0m\u001b[0m\n",
      "\u001b[1;31mTypeError\u001b[0m: 'NoneType' object has no attribute '__getitem__'"
     ]
    }
   ],
   "source": [
    "Play(folk,5000000)\n",
    "#print folk"
   ]
  },
  {
   "cell_type": "code",
   "execution_count": null,
   "metadata": {
    "collapsed": true
   },
   "outputs": [],
   "source": []
  }
 ],
 "metadata": {
  "kernelspec": {
   "display_name": "Python 2",
   "language": "python",
   "name": "python2"
  },
  "language_info": {
   "codemirror_mode": {
    "name": "ipython",
    "version": 2
   },
   "file_extension": ".py",
   "mimetype": "text/x-python",
   "name": "python",
   "nbconvert_exporter": "python",
   "pygments_lexer": "ipython2",
   "version": "2.7.11"
  }
 },
 "nbformat": 4,
 "nbformat_minor": 0
}
