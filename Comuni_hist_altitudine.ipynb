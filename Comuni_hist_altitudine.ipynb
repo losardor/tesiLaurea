{
 "cells": [
  {
   "cell_type": "code",
   "execution_count": 3,
   "metadata": {
    "collapsed": true
   },
   "outputs": [],
   "source": [
    "import numpy as np\n",
    "from matplotlib import pyplot as plt\n",
    "import numpy as np\n",
    "%matplotlib inline"
   ]
  },
  {
   "cell_type": "code",
   "execution_count": 4,
   "metadata": {
    "collapsed": false
   },
   "outputs": [],
   "source": [
    "values=[]\n",
    "with open('Comuni_altitudine','r') as file:\n",
    "    for n, line in enumerate(file):\n",
    "        if n != 0:\n",
    "            values.append(int(line.split('\\t')[1]))"
   ]
  },
  {
   "cell_type": "code",
   "execution_count": 5,
   "metadata": {
    "collapsed": false
   },
   "outputs": [],
   "source": [
    "Altitudini=np.array(values)"
   ]
  },
  {
   "cell_type": "code",
   "execution_count": 6,
   "metadata": {
    "collapsed": false,
    "scrolled": true
   },
   "outputs": [
    {
     "data": {
      "image/png": "[encoded data removed]",
      "text/plain": [
       "<matplotlib.figure.Figure at 0x7f968bdcacd0>"
      ]
     },
     "metadata": {},
     "output_type": "display_data"
    }
   ],
   "source": [
    "hist, bins=np.histogram(Altitudini, bins=50, normed=1)\n",
    "width = 0.7 * (bins[1] - bins[0])\n",
    "center = (bins[:-1] + bins[1:]) / 2\n",
    "plt.bar(center, hist, width=width)\n",
    "plt.show()\n"
   ]
  },
  {
   "cell_type": "code",
   "execution_count": 29,
   "metadata": {
    "collapsed": false
   },
   "outputs": [
    {
     "data": {
      "text/plain": [
       "[{1.0: 0.0030078214294698693},\n",
       " {41.68: 0.0018411512992512532},\n",
       " {82.359999999999999: 0.0015859422082659311},\n",
       " {123.03999999999999: 0.0012395870133572794},\n",
       " {163.72: 0.0012608544376060563},\n",
       " {204.40000000000001: 0.0014978343078067126},\n",
       " {245.07999999999998: 0.0016679737017969275},\n",
       " {285.75999999999999: 0.0013763061692422735},\n",
       " {326.44: 0.0011788229440750598},\n",
       " {367.12: 0.0010967914505440634},\n",
       " {407.80000000000001: 0.0010360273812618438},\n",
       " {448.48000000000002: 0.00091753744616151567},\n",
       " {489.15999999999997: 0.00080208571452529843},\n",
       " {529.84000000000003: 0.00080208571452529843},\n",
       " {570.51999999999998: 0.00061675530321452876},\n",
       " {611.20000000000005: 0.00065017554131974946},\n",
       " {651.88: 0.00058333506510930796},\n",
       " {692.55999999999995: 0.00051649458889886646},\n",
       " {733.24000000000001: 0.00050130357157831152},\n",
       " {773.91999999999996: 0.00039192824687031628},\n",
       " {814.60000000000002: 0.00038585183994209433},\n",
       " {855.27999999999997: 0.00024305627712887832},\n",
       " {895.96000000000004: 0.00020963603902365754},\n",
       " {936.63999999999999: 0.00022178885288010147},\n",
       " {977.31999999999994: 0.00016710119052610386},\n",
       " {1018.0: 0.00011241352817210623},\n",
       " {1058.6800000000001: 0.00010937532470799525},\n",
       " {1099.3599999999999: 6.0764069282219579e-05},\n",
       " {1140.04: 8.5069696995107417e-05},\n",
       " {1180.72: 8.8107900459218394e-05},\n",
       " {1221.4000000000001: 5.4687662353997624e-05},\n",
       " {1262.0799999999999: 2.7343831176998812e-05},\n",
       " {1302.76: 5.4687662353997624e-05},\n",
       " {1343.4400000000001: 3.342023810522077e-05},\n",
       " {1384.1199999999999: 3.6458441569331747e-05},\n",
       " {1424.8: 3.342023810522077e-05},\n",
       " {1465.48: 9.1146103923329368e-06},\n",
       " {1506.1600000000001: 2.4305627712887832e-05},\n",
       " {1546.8399999999999: 1.2152813856443916e-05},\n",
       " {1587.52: 1.2152813856443916e-05},\n",
       " {1628.2: 9.1146103923329368e-06},\n",
       " {1668.8799999999999: 6.0764069282219579e-06},\n",
       " {1709.5599999999999: 3.0382034641109789e-06},\n",
       " {1750.24: 3.0382034641109789e-06},\n",
       " {1790.9200000000001: 6.0764069282219579e-06},\n",
       " {1831.5999999999999: 0.0},\n",
       " {1872.28: 0.0},\n",
       " {1912.96: 0.0},\n",
       " {1953.6399999999999: 0.0},\n",
       " {1994.3199999999999: 3.0382034641109789e-06}]"
      ]
     },
     "execution_count": 29,
     "metadata": {},
     "output_type": "execute_result"
    }
   ],
   "source": [
    "lookup=[]\n",
    "for tupla in zip(*np.histogram(Altitudini, bins=50, normed=1)):\n",
    "    lookup.append({tupla[1]:tupla[0]})\n",
    "lookup"
   ]
  },
  {
   "cell_type": "code",
   "execution_count": 32,
   "metadata": {
    "collapsed": false
   },
   "outputs": [
    {
     "data": {
      "text/plain": [
       "{1.0: 0.0030078214294698693,\n",
       " 41.68: 0.0018411512992512532,\n",
       " 82.359999999999999: 0.0015859422082659311,\n",
       " 123.03999999999999: 0.0012395870133572794,\n",
       " 163.72: 0.0012608544376060563,\n",
       " 204.40000000000001: 0.0014978343078067126,\n",
       " 245.07999999999998: 0.0016679737017969275,\n",
       " 285.75999999999999: 0.0013763061692422735,\n",
       " 326.44: 0.0011788229440750598,\n",
       " 367.12: 0.0010967914505440634,\n",
       " 407.80000000000001: 0.0010360273812618438,\n",
       " 448.48000000000002: 0.00091753744616151567,\n",
       " 489.15999999999997: 0.00080208571452529843,\n",
       " 529.84000000000003: 0.00080208571452529843,\n",
       " 570.51999999999998: 0.00061675530321452876,\n",
       " 611.20000000000005: 0.00065017554131974946,\n",
       " 651.88: 0.00058333506510930796,\n",
       " 692.55999999999995: 0.00051649458889886646,\n",
       " 733.24000000000001: 0.00050130357157831152,\n",
       " 773.91999999999996: 0.00039192824687031628,\n",
       " 814.60000000000002: 0.00038585183994209433,\n",
       " 855.27999999999997: 0.00024305627712887832,\n",
       " 895.96000000000004: 0.00020963603902365754,\n",
       " 936.63999999999999: 0.00022178885288010147,\n",
       " 977.31999999999994: 0.00016710119052610386,\n",
       " 1018.0: 0.00011241352817210623,\n",
       " 1058.6800000000001: 0.00010937532470799525,\n",
       " 1099.3599999999999: 6.0764069282219579e-05,\n",
       " 1140.04: 8.5069696995107417e-05,\n",
       " 1180.72: 8.8107900459218394e-05,\n",
       " 1221.4000000000001: 5.4687662353997624e-05,\n",
       " 1262.0799999999999: 2.7343831176998812e-05,\n",
       " 1302.76: 5.4687662353997624e-05,\n",
       " 1343.4400000000001: 3.342023810522077e-05,\n",
       " 1384.1199999999999: 3.6458441569331747e-05,\n",
       " 1424.8: 3.342023810522077e-05,\n",
       " 1465.48: 9.1146103923329368e-06,\n",
       " 1506.1600000000001: 2.4305627712887832e-05,\n",
       " 1546.8399999999999: 1.2152813856443916e-05,\n",
       " 1587.52: 1.2152813856443916e-05,\n",
       " 1628.2: 9.1146103923329368e-06,\n",
       " 1668.8799999999999: 6.0764069282219579e-06,\n",
       " 1709.5599999999999: 3.0382034641109789e-06,\n",
       " 1750.24: 3.0382034641109789e-06,\n",
       " 1790.9200000000001: 6.0764069282219579e-06,\n",
       " 1831.5999999999999: 0.0,\n",
       " 1872.28: 0.0,\n",
       " 1912.96: 0.0,\n",
       " 1953.6399999999999: 0.0,\n",
       " 1994.3199999999999: 3.0382034641109789e-06}"
      ]
     },
     "execution_count": 32,
     "metadata": {},
     "output_type": "execute_result"
    }
   ],
   "source": [
    "lookup={}\n",
    "for tupla in zip(*np.histogram(Altitudini, bins=50, normed=1)):\n",
    "\tlookup[tupla[1]]=tupla[0]\n",
    "lookup"
   ]
  },
  {
   "cell_type": "code",
   "execution_count": 34,
   "metadata": {
    "collapsed": false
   },
   "outputs": [
    {
     "data": {
      "text/plain": [
       "[1.0,\n",
       " 41.68,\n",
       " 82.359999999999999,\n",
       " 123.03999999999999,\n",
       " 163.72,\n",
       " 204.40000000000001,\n",
       " 245.07999999999998,\n",
       " 285.75999999999999,\n",
       " 326.44,\n",
       " 367.12,\n",
       " 407.80000000000001,\n",
       " 448.48000000000002,\n",
       " 489.15999999999997,\n",
       " 529.84000000000003,\n",
       " 570.51999999999998,\n",
       " 611.20000000000005,\n",
       " 651.88,\n",
       " 692.55999999999995,\n",
       " 733.24000000000001,\n",
       " 773.91999999999996,\n",
       " 814.60000000000002,\n",
       " 855.27999999999997,\n",
       " 895.96000000000004,\n",
       " 936.63999999999999,\n",
       " 977.31999999999994,\n",
       " 1018.0,\n",
       " 1058.6800000000001,\n",
       " 1099.3599999999999,\n",
       " 1140.04,\n",
       " 1180.72,\n",
       " 1221.4000000000001,\n",
       " 1262.0799999999999,\n",
       " 1302.76,\n",
       " 1343.4400000000001,\n",
       " 1384.1199999999999,\n",
       " 1424.8,\n",
       " 1465.48,\n",
       " 1506.1600000000001,\n",
       " 1546.8399999999999,\n",
       " 1587.52,\n",
       " 1628.2,\n",
       " 1668.8799999999999,\n",
       " 1709.5599999999999,\n",
       " 1750.24,\n",
       " 1790.9200000000001,\n",
       " 1831.5999999999999,\n",
       " 1872.28,\n",
       " 1912.96,\n",
       " 1953.6399999999999,\n",
       " 1994.3199999999999]"
      ]
     },
     "execution_count": 34,
     "metadata": {},
     "output_type": "execute_result"
    }
   ],
   "source": [
    "sorted(list(lookup.keys()))"
   ]
  },
  {
   "cell_type": "code",
   "execution_count": null,
   "metadata": {
    "collapsed": true
   },
   "outputs": [],
   "source": []
  }
 ],
 "metadata": {
  "kernelspec": {
   "display_name": "Python 2",
   "language": "python",
   "name": "python2"
  },
  "language_info": {
   "codemirror_mode": {
    "name": "ipython",
    "version": 2
   },
   "file_extension": ".py",
   "mimetype": "text/x-python",
   "name": "python",
   "nbconvert_exporter": "python",
   "pygments_lexer": "ipython2",
   "version": "2.7.12"
  }
 },
 "nbformat": 4,
 "nbformat_minor": 0
}
