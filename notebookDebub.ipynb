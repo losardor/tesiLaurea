{
 "cells": [
  {
   "cell_type": "code",
   "execution_count": 1,
   "metadata": {
    "collapsed": false
   },
   "outputs": [],
   "source": [
    "import tailer as tl\n",
    "import math as mt\n",
    "import networkx as nx\n",
    "from operator import itemgetter\n",
    "import matplotlib.pyplot as plt\n",
    "%matplotlib inline"
   ]
  },
  {
   "cell_type": "code",
   "execution_count": 2,
   "metadata": {
    "collapsed": false
   },
   "outputs": [
    {
     "name": "stdout",
     "output_type": "stream",
     "text": [
      "310630.5\n",
      "5227502.5\n"
     ]
    }
   ],
   "source": [
    "theFile=\"files/Grid.xyz\"\n",
    "first =tl.head(open(theFile),1)[0].split()\n",
    "print first[0]\n",
    "print first[1]"
   ]
  },
  {
   "cell_type": "code",
   "execution_count": 3,
   "metadata": {
    "collapsed": false
   },
   "outputs": [
    {
     "name": "stdout",
     "output_type": "stream",
     "text": [
      "['1320280.5', '3924002.5', '0']\n",
      "13462\n",
      "17380\n",
      "1009650\n",
      "1303500\n"
     ]
    }
   ],
   "source": [
    "last=tl.tail(open(theFile),1)[0].split()\n",
    "print last\n",
    "xrange=int(abs((float(last[0])-float(first[0]))/75))\n",
    "print xrange\n",
    "yrange=int(abs((float(last[1])-float(first[1]))/75))\n",
    "print yrange\n",
    "l=xrange*75\n",
    "print l\n",
    "h=yrange*75\n",
    "print h"
   ]
  },
  {
   "cell_type": "code",
   "execution_count": 4,
   "metadata": {
    "collapsed": false
   },
   "outputs": [
    {
     "name": "stdout",
     "output_type": "stream",
     "text": [
      "1\n"
     ]
    }
   ],
   "source": [
    "coarsness=int(((30/0.28)/(30))**(0.5))\n",
    "print coarsness"
   ]
  },
  {
   "cell_type": "code",
   "execution_count": 5,
   "metadata": {
    "collapsed": false
   },
   "outputs": [
    {
     "data": {
      "text/plain": [
       "<matplotlib.collections.PathCollection at 0x7fae089df2d0>"
      ]
     },
     "execution_count": 5,
     "metadata": {},
     "output_type": "execute_result"
    },
    {
     "data": {
      "image/png": "[encoded data removed]",
      "text/plain": [
       "<matplotlib.figure.Figure at 0x7fae089df390>"
      ]
     },
     "metadata": {},
     "output_type": "display_data"
    }
   ],
   "source": [
    "G=nx.grid_2d_graph(5*coarsness, 6*coarsness, True)\n",
    "nx.draw_networkx_edges(G, pos={i:i for i in G.nodes()}, width=2)\n",
    "nx.draw_networkx_nodes(G, pos={i:i for i in G.nodes()}, node_size=20) "
   ]
  },
  {
   "cell_type": "code",
   "execution_count": 6,
   "metadata": {
    "collapsed": false
   },
   "outputs": [
    {
     "name": "stdout",
     "output_type": "stream",
     "text": [
      "[[310630.5, 5227502.5], [563043.5, 5227502.5], [815455.5, 5227502.5], [1067868.5, 5227502.5], [1320280.5, 5227502.5], [310630.5, 4966802.5], [563043.5, 4966802.5], [815455.5, 4966802.5], [1067868.5, 4966802.5], [1320280.5, 4966802.5], [310630.5, 4706102.5], [563043.5, 4706102.5], [815455.5, 4706102.5], [1067868.5, 4706102.5], [1320280.5, 4706102.5], [310630.5, 4445402.5], [563043.5, 4445402.5], [815455.5, 4445402.5], [1067868.5, 4445402.5], [1320280.5, 4445402.5], [310630.5, 4184702.5], [563043.5, 4184702.5], [815455.5, 4184702.5], [1067868.5, 4184702.5], [1320280.5, 4184702.5], [310630.5, 3924002.5], [563043.5, 3924002.5], [815455.5, 3924002.5], [1067868.5, 3924002.5], [1320280.5, 3924002.5]]\n"
     ]
    }
   ],
   "source": [
    "listOfNodes = G.nodes()\n",
    "totalNum = len(listOfNodes)\n",
    "#listof_nodes=[[(coarsness*5-int(item[0]+1))*xrange*75/(5*coarsness),(int(item[1]+1)*yrange*75/(6*coarsness))] for item in G.nodes()]\n",
    "listof_nodes=[[float(int(item[0]*(float(l)/(coarsness*5-1))+float(first[0])))+0.5,float(int(float(first[1])-item[1]*(float(h)/(coarsness*6-1))))+0.5] for item in G.nodes()]\n",
    "\n",
    "print sorted(sorted(listof_nodes,key=itemgetter(0)), key=itemgetter(1), reverse=True)\n",
    "#bigN=float(yrange*xrange)\n",
    "#smallM=float(30*coarsness*coarsness)\n",
    "#linesUltra=[int(element[1]*float(yrange)/(coarsness*5)*xrange+1 + (element[0]+1)*float(1-xrange)/(1-6*coarsness)+float(xrange-6*coarsness)/(1-6*coarsness)) for element in G.nodes()]\n",
    "#print sorted(linesUltra)\n",
    "#topolino=0\n",
    "#diffUltra=[]\n",
    "#for pippo in sorted(linesUltra):\n",
    "#    diff=pippo-topolino\n",
    "#    topolino=pippo\n",
    "#    diffUltra.append(diff)\n",
    "#print diffUltra\n",
    "#lines= [int(float(((5*coarsness)-1-place[1])*coarsness*6+place[0]+1)*((1-bigN)/(1-smallM))+((bigN-smallM)/(1-smallM))) for place in G.nodes()]\n",
    "#lineRow = [int(i/xrange) for i in lines]\n",
    "#print sorted(lineRow)"
   ]
  },
  {
   "cell_type": "code",
   "execution_count": 8,
   "metadata": {
    "collapsed": false
   },
   "outputs": [
    {
     "name": "stdout",
     "output_type": "stream",
     "text": [
      "[[310630.5, 5227502.5, 0], [563043.5, 5227502.5, 0], [815455.5, 5227502.5, 0], [1067868.5, 5227502.5, 0], [1320280.5, 5227502.5, 0], [310630.5, 4966802.5, 0], [563043.5, 4966802.5, 277], [815455.5, 4966802.5, 0], [1067868.5, 4966802.5, 0], [1320280.5, 4966802.5, 0], [310630.5, 4706102.5, 0], [563043.5, 4706102.5, 0], [815455.5, 4706102.5, 381], [1067868.5, 4706102.5, 0], [1320280.5, 4706102.5, 0], [310630.5, 4445402.5, 0], [563043.5, 4445402.5, 0], [815455.5, 4445402.5, 0], [1067868.5, 4445402.5, 0], [1320280.5, 4445402.5, 0], [310630.5, 4184702.5, 0], [563043.5, 4184702.5, 0], [815455.5, 4184702.5, 128], [1067868.5, 4184702.5, 0], [1320280.5, 4184702.5, 0], [310630.5, 3924002.5, 0], [563043.5, 3924002.5, 0], [815455.5, 3924002.5, 0], [1067868.5, 3924002.5, 0], [1320280.5, 3924002.5, 0]]\n"
     ]
    }
   ],
   "source": [
    "listOfValues=sorted(sorted(listof_nodes,key=itemgetter(0)), key=itemgetter(1), reverse=True)\n",
    "ind=0\n",
    "values=listOfValues[ind]\n",
    "for currentline, line in enumerate(open(theFile, \"rU\")):\n",
    "    if ((float( line.split()[1] )+37.5 >= float( values[1] )) and ((float( line.split()[1] )-37.5 < float( values[1] )))) and ((float( line.split()[0] )+37.5 >= float( values[0] )) and ((float( line.split()[0] )-37.5 < float( values[0] )))):\n",
    "        listOfValues[ind].append(int(line.split()[2]))\n",
    "        if (ind != len(listOfValues)-1):\n",
    "            ind+=1\n",
    "            values=listOfValues[ind]\n",
    "        else:\n",
    "            break\n",
    "print listOfValues\n",
    "#linesdict = {lines[i]:i for i in range(len(lines))}\n",
    "#out = [0 for i in range(len(lines))]\n",
    "#values = linesdict.keys()\n",
    "#values.sort()\n",
    "#ind=0\n",
    "#for currentline, line in enumerate(open(theFile, \"rU\")):\n",
    "#    if currentline == values[ind]:\n",
    "#        out[linesdict[currentline]] = int(line.split()[2])\n",
    "#        if(ind!=len(values)-1): \n",
    "#            ind+=1\n",
    "#        else: break\n",
    "#print out"
   ]
  },
  {
   "cell_type": "code",
   "execution_count": 9,
   "metadata": {
    "collapsed": false
   },
   "outputs": [
    {
     "ename": "NameError",
     "evalue": "name 'out' is not defined",
     "output_type": "error",
     "traceback": [
      "\u001b[1;31m---------------------------------------------------------------------------\u001b[0m",
      "\u001b[1;31mNameError\u001b[0m                                 Traceback (most recent call last)",
      "\u001b[1;32m<ipython-input-9-571d908a2790>\u001b[0m in \u001b[0;36m<module>\u001b[1;34m()\u001b[0m\n\u001b[1;32m----> 1\u001b[1;33m \u001b[0moutNoZeros\u001b[0m\u001b[1;33m=\u001b[0m\u001b[1;33m[\u001b[0m\u001b[0melement\u001b[0m \u001b[1;32mfor\u001b[0m \u001b[0melement\u001b[0m \u001b[1;32min\u001b[0m \u001b[0mout\u001b[0m \u001b[1;32mif\u001b[0m \u001b[0melement\u001b[0m\u001b[1;33m]\u001b[0m\u001b[1;33m\u001b[0m\u001b[0m\n\u001b[0m\u001b[0;32m      2\u001b[0m \u001b[1;32mprint\u001b[0m \u001b[0moutNoZeros\u001b[0m\u001b[1;33m\u001b[0m\u001b[0m\n\u001b[0;32m      3\u001b[0m \u001b[0mfraction\u001b[0m\u001b[1;33m=\u001b[0m\u001b[0mfloat\u001b[0m\u001b[1;33m(\u001b[0m\u001b[0mlen\u001b[0m\u001b[1;33m(\u001b[0m\u001b[0moutNoZeros\u001b[0m\u001b[1;33m)\u001b[0m\u001b[1;33m)\u001b[0m\u001b[1;33m/\u001b[0m\u001b[0mlen\u001b[0m\u001b[1;33m(\u001b[0m\u001b[0mout\u001b[0m\u001b[1;33m)\u001b[0m\u001b[1;33m\u001b[0m\u001b[0m\n\u001b[0;32m      4\u001b[0m \u001b[1;32mprint\u001b[0m \u001b[0mfraction\u001b[0m\u001b[1;33m\u001b[0m\u001b[0m\n",
      "\u001b[1;31mNameError\u001b[0m: name 'out' is not defined"
     ]
    }
   ],
   "source": [
    "outNoZeros=[element for element in out if element]\n",
    "print outNoZeros\n",
    "fraction=float(len(outNoZeros))/len(out)\n",
    "print fraction"
   ]
  },
  {
   "cell_type": "code",
   "execution_count": null,
   "metadata": {
    "collapsed": true
   },
   "outputs": [],
   "source": []
  }
 ],
 "metadata": {
  "kernelspec": {
   "display_name": "Python 2",
   "language": "python",
   "name": "python2"
  },
  "language_info": {
   "codemirror_mode": {
    "name": "ipython",
    "version": 2
   },
   "file_extension": ".py",
   "mimetype": "text/x-python",
   "name": "python",
   "nbconvert_exporter": "python",
   "pygments_lexer": "ipython2",
   "version": "2.7.11"
  }
 },
 "nbformat": 4,
 "nbformat_minor": 0
}
