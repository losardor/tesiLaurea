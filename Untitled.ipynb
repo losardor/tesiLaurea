{
 "cells": [
  {
   "cell_type": "code",
   "execution_count": 1,
   "metadata": {
    "collapsed": true
   },
   "outputs": [],
   "source": [
    "import pandas as pd\n",
    "import numpy as np\n",
    "import matplotlib.pyplot as plt"
   ]
  },
  {
   "cell_type": "code",
   "execution_count": 2,
   "metadata": {
    "collapsed": false
   },
   "outputs": [
    {
     "data": {
      "text/html": [
       "<div>\n",
       "<table border=\"1\" class=\"dataframe\">\n",
       "  <thead>\n",
       "    <tr style=\"text-align: right;\">\n",
       "      <th></th>\n",
       "      <th>0</th>\n",
       "    </tr>\n",
       "  </thead>\n",
       "  <tbody>\n",
       "    <tr>\n",
       "      <th>0</th>\n",
       "      <td>Clustersi1000000.dat</td>\n",
       "    </tr>\n",
       "    <tr>\n",
       "      <th>1</th>\n",
       "      <td>Clustersi100000.dat</td>\n",
       "    </tr>\n",
       "    <tr>\n",
       "      <th>2</th>\n",
       "      <td>Clustersi10000.dat</td>\n",
       "    </tr>\n",
       "    <tr>\n",
       "      <th>3</th>\n",
       "      <td>Clustersi1000.dat</td>\n",
       "    </tr>\n",
       "    <tr>\n",
       "      <th>4</th>\n",
       "      <td>Clustersi100.dat</td>\n",
       "    </tr>\n",
       "    <tr>\n",
       "      <th>5</th>\n",
       "      <td>Clustersi2000000.dat</td>\n",
       "    </tr>\n",
       "    <tr>\n",
       "      <th>6</th>\n",
       "      <td>Clustersi3000000.dat</td>\n",
       "    </tr>\n",
       "    <tr>\n",
       "      <th>7</th>\n",
       "      <td>Clustersi4000000.dat</td>\n",
       "    </tr>\n",
       "    <tr>\n",
       "      <th>8</th>\n",
       "      <td>Clustersi5000000.dat</td>\n",
       "    </tr>\n",
       "    <tr>\n",
       "      <th>9</th>\n",
       "      <td>Clustersi6000000.dat</td>\n",
       "    </tr>\n",
       "    <tr>\n",
       "      <th>10</th>\n",
       "      <td>Clustersi7000000.dat</td>\n",
       "    </tr>\n",
       "    <tr>\n",
       "      <th>11</th>\n",
       "      <td>Clustersi8000000.dat</td>\n",
       "    </tr>\n",
       "    <tr>\n",
       "      <th>12</th>\n",
       "      <td>Clustersi9000000.dat</td>\n",
       "    </tr>\n",
       "  </tbody>\n",
       "</table>\n",
       "</div>"
      ],
      "text/plain": [
       "                       0\n",
       "0   Clustersi1000000.dat\n",
       "1    Clustersi100000.dat\n",
       "2     Clustersi10000.dat\n",
       "3      Clustersi1000.dat\n",
       "4       Clustersi100.dat\n",
       "5   Clustersi2000000.dat\n",
       "6   Clustersi3000000.dat\n",
       "7   Clustersi4000000.dat\n",
       "8   Clustersi5000000.dat\n",
       "9   Clustersi6000000.dat\n",
       "10  Clustersi7000000.dat\n",
       "11  Clustersi8000000.dat\n",
       "12  Clustersi9000000.dat"
      ]
     },
     "execution_count": 2,
     "metadata": {},
     "output_type": "execute_result"
    }
   ],
   "source": [
    "files=pd.read_table(\"clusterlists.dat\", header=None)\n",
    "files"
   ]
  },
  {
   "cell_type": "code",
   "execution_count": 21,
   "metadata": {
    "collapsed": false
   },
   "outputs": [],
   "source": [
    "data={}\n",
    "for i, file in enumerate(files[0]):\n",
    "    data[str(file)]=np.loadtxt(str(file))\n",
    "datafr=pd.DataFrame.from_dict(data, orient='index')\n",
    "datafr=datafr.transpose()\n",
    "datafr=datafr.rename(columns={'Clustersi1000000.dat':'1000000',\n",
    "              'Clustersi100000.dat':'100000',\n",
    "              'Clustersi10000.dat':'10000',\n",
    "              'Clustersi1000.dat':'1000',\n",
    "              'Clustersi100.dat':'100',\n",
    "              'Clustersi2000000.dat':'2000000',\n",
    "              'Clustersi3000000.dat':'3000000',\n",
    "              'Clustersi4000000.dat':'4000000',\n",
    "              'Clustersi5000000.dat': '5000000',\n",
    "              'Clustersi6000000.dat': '6000000',\n",
    "              'Clustersi7000000.dat': '7000000',\n",
    "              'Clustersi8000000.dat': '8000000',\n",
    "              'Clustersi9000000.dat':'9000000'})\n",
    "datafr=datafr.sort_index(axis=1)"
   ]
  },
  {
   "cell_type": "code",
   "execution_count": 22,
   "metadata": {
    "collapsed": false
   },
   "outputs": [
    {
     "data": {
      "text/plain": [
       "<matplotlib.axes._subplots.AxesSubplot at 0x7f8cd3cdc5d0>"
      ]
     },
     "execution_count": 22,
     "metadata": {},
     "output_type": "execute_result"
    },
    {
     "data": {
      "image/png": "[encoded data removed]",
      "text/plain": [
       "<matplotlib.figure.Figure at 0x7f8cd3ed4a50>"
      ]
     },
     "metadata": {},
     "output_type": "display_data"
    }
   ],
   "source": [
    "datafr.plot.box(showfliers=False, rot=90)\n",
    "#plt.xticks(x, labels, rotation='vertical')"
   ]
  },
  {
   "cell_type": "code",
   "execution_count": null,
   "metadata": {
    "collapsed": true
   },
   "outputs": [],
   "source": []
  },
  {
   "cell_type": "code",
   "execution_count": null,
   "metadata": {
    "collapsed": true
   },
   "outputs": [],
   "source": []
  }
 ],
 "metadata": {
  "kernelspec": {
   "display_name": "Python 2",
   "language": "python",
   "name": "python2"
  },
  "language_info": {
   "codemirror_mode": {
    "name": "ipython",
    "version": 2
   },
   "file_extension": ".py",
   "mimetype": "text/x-python",
   "name": "python",
   "nbconvert_exporter": "python",
   "pygments_lexer": "ipython2",
   "version": "2.7.12"
  }
 },
 "nbformat": 4,
 "nbformat_minor": 0
}
