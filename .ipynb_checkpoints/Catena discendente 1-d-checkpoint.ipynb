{
 "cells": [
  {
   "cell_type": "code",
   "execution_count": null,
   "metadata": {
    "collapsed": false
   },
   "outputs": [
    {
     "name": "stderr",
     "output_type": "stream",
     "text": [
      "/home/donrog/anaconda2/envs/naminGame/lib/python2.7/site-packages/matplotlib/font_manager.py:273: UserWarning: Matplotlib is building the font cache using fc-list. This may take a moment.\n",
      "  warnings.warn('Matplotlib is building the font cache using fc-list. This may take a moment.')\n"
     ]
    }
   ],
   "source": [
    "import numpy as np\n",
    "import matplotlib.pyplot as plt\n",
    "max=5000\n",
    "min=50\n",
    "info=np.zeros((max-min,2))\n",
    "for N in range(min,max):\n",
    "    a=np.array(range(1,N+1),dtype=np.float)\n",
    "    invA=np.reciprocal(a)\n",
    "    hN=np.sum(invA)\n",
    "    info[N-min,0]=hN\n",
    "    prob=invA/hN\n",
    "    num=1000\n",
    "    dist=np.zeros(num)\n",
    "    for i in range(num):\n",
    "        elementA=np.random.randint(1,101)\n",
    "        elementB=elementA+np.random.choice(a,size=1,p=prob)\n",
    "        dist[i]=elementB-elementA\n",
    "    d=np.average(dist)\n",
    "    info[N-min,1]=d\n",
    "plt.plot(info[:,1])\n",
    "plt.plot(info[:,0])"
   ]
  },
  {
   "cell_type": "code",
   "execution_count": null,
   "metadata": {
    "collapsed": true
   },
   "outputs": [],
   "source": []
  }
 ],
 "metadata": {
  "kernelspec": {
   "display_name": "Python 2",
   "language": "python",
   "name": "python2"
  },
  "language_info": {
   "codemirror_mode": {
    "name": "ipython",
    "version": 2
   },
   "file_extension": ".py",
   "mimetype": "text/x-python",
   "name": "python",
   "nbconvert_exporter": "python",
   "pygments_lexer": "ipython2",
   "version": "2.7.11"
  }
 },
 "nbformat": 4,
 "nbformat_minor": 0
}
